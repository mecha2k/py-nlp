{
 "cells": [
  {
   "cell_type": "markdown",
   "metadata": {},
   "source": [
    "# Tokenization\n",
    "\n",
    "## Korean Tokenization with KoNLPy"
   ]
  },
  {
   "cell_type": "markdown",
   "metadata": {},
   "source": [
    "### Ubuntu\n",
    "\n",
    "```bash\n",
    "sudo apt-get install g++ openjdk-8-jdk python3-dev\n",
    "pip install konlpy\n",
    "```\n",
    "\n",
    "### macOS\n",
    "\n",
    "[Install JDK](http://www.oracle.com/technetwork/java/javase/downloads/index.html)\n",
    "\n",
    "```bash\n",
    "pip install konlpy\n",
    "```\n",
    "\n",
    "If you fail to build JPype1, follow the below:\n",
    "```bash\n",
    "export MACOSX_DEPLOYMENT_TARGET=10.10\n",
    "CFLAGS='-stdlib=libc++' pip install konlpy\n",
    "```\n",
    "\n",
    "### Windows\n",
    "\n",
    "1. [Install JDK](http://www.oracle.com/technetwork/java/javase/downloads/index.html)\n",
    "2. [Set JAVA_HOME](http://docs.oracle.com/cd/E19182-01/820-7851/inst_cli_jdk_javahome_t/index.html)\n",
    "3. Install JPype1\n",
    "```cmd\n",
    "pip install JPype1-0.5.7-cp37-none-win_amd64.whl\n",
    "pip install konlpy\n",
    "```"
   ]
  },
  {
   "cell_type": "code",
   "execution_count": 1,
   "metadata": {},
   "outputs": [
    {
     "data": {
      "text/plain": [
       "'/Library/Java/JavaVirtualMachines/jdk-11.0.2.jdk/Contents/Home/lib/jli/libjli.dylib'"
      ]
     },
     "execution_count": 1,
     "metadata": {},
     "output_type": "execute_result"
    }
   ],
   "source": [
    "import jpype\n",
    "jpype.getDefaultJVMPath()"
   ]
  },
  {
   "cell_type": "code",
   "execution_count": 2,
   "metadata": {},
   "outputs": [
    {
     "data": {
      "text/plain": [
       "['나', '는', '밥', '을', '먹', '는다']"
      ]
     },
     "execution_count": 2,
     "metadata": {},
     "output_type": "execute_result"
    }
   ],
   "source": [
    "from konlpy.tag import Hannanum\n",
    "\n",
    "hannanum = Hannanum()\n",
    "hannanum.morphs('나는 밥을 먹는다')"
   ]
  },
  {
   "cell_type": "code",
   "execution_count": 3,
   "metadata": {},
   "outputs": [
    {
     "data": {
      "text/plain": [
       "['아이폰', '기다리', '다', '지치', '어', '애플공홈', '에서', '언락폰질러버렸다', '6+', '128기가실벜']"
      ]
     },
     "execution_count": 3,
     "metadata": {},
     "output_type": "execute_result"
    }
   ],
   "source": [
    "hannanum.morphs('아이폰 기다리다 지쳐 애플공홈에서 언락폰질러버렸다 6+ 128기가실버ㅋ')"
   ]
  },
  {
   "cell_type": "code",
   "execution_count": 4,
   "metadata": {},
   "outputs": [
    {
     "data": {
      "text/plain": [
       "['아이폰',\n",
       " '기다리다',\n",
       " '지쳐',\n",
       " '애플',\n",
       " '공홈',\n",
       " '에서',\n",
       " '언',\n",
       " '락폰',\n",
       " '질러',\n",
       " '버렸다',\n",
       " '6',\n",
       " '+',\n",
       " '128',\n",
       " '기',\n",
       " '가',\n",
       " '실버',\n",
       " 'ㅋ']"
      ]
     },
     "execution_count": 4,
     "metadata": {},
     "output_type": "execute_result"
    }
   ],
   "source": [
    "from konlpy.tag import Okt\n",
    "\n",
    "okt = Okt()\n",
    "okt.morphs('아이폰 기다리다 지쳐 애플공홈에서 언락폰질러버렸다 6+ 128기가실버ㅋ')"
   ]
  },
  {
   "cell_type": "markdown",
   "metadata": {},
   "source": [
    "![](konlpy.png)"
   ]
  },
  {
   "cell_type": "markdown",
   "metadata": {},
   "source": [
    "## English Tokenization with Moses\n",
    "\n",
    "참고: http://www.nltk.org/api/nltk.tokenize.html#module-nltk.tokenize.moses"
   ]
  },
  {
   "cell_type": "code",
   "execution_count": 5,
   "metadata": {},
   "outputs": [
    {
     "name": "stdout",
     "output_type": "stream",
     "text": [
      "[nltk_data] Downloading package perluniprops to\n",
      "[nltk_data]     /Users/khkim/nltk_data...\n",
      "[nltk_data]   Unzipping misc/perluniprops.zip.\n",
      "[nltk_data] Downloading package nonbreaking_prefixes to\n",
      "[nltk_data]     /Users/khkim/nltk_data...\n",
      "[nltk_data]   Unzipping corpora/nonbreaking_prefixes.zip.\n"
     ]
    },
    {
     "data": {
      "text/plain": [
       "True"
      ]
     },
     "execution_count": 5,
     "metadata": {},
     "output_type": "execute_result"
    }
   ],
   "source": [
    "import nltk\n",
    "\n",
    "nltk.download('perluniprops')\n",
    "nltk.download('nonbreaking_prefixes')"
   ]
  },
  {
   "cell_type": "code",
   "execution_count": 6,
   "metadata": {},
   "outputs": [
    {
     "name": "stdout",
     "output_type": "stream",
     "text": [
      "According to 'Ki' (which is a name of instructor), there are more than 10,000 ways to tokenize a sentence with various languages.\n",
      "According to ' Ki ' ( which is a name of instructor ) , there are more than 10,000 ways to tokenize a sentence with various languages .\n"
     ]
    }
   ],
   "source": [
    "from nltk.tokenize.moses import MosesTokenizer\n",
    "\n",
    "moses = MosesTokenizer()\n",
    "sentence = 'According to \\'Ki\\' (which is a name of instructor), there are more than 10,000 ways to tokenize a sentence with various languages.'\n",
    "tokens = moses.tokenize(sentence, escape=False)\n",
    "\n",
    "print(sentence)\n",
    "print(' '.join(tokens))"
   ]
  }
 ],
 "metadata": {
  "kernelspec": {
   "display_name": "Python 3",
   "language": "python",
   "name": "python3"
  },
  "language_info": {
   "codemirror_mode": {
    "name": "ipython",
    "version": 3
   },
   "file_extension": ".py",
   "mimetype": "text/x-python",
   "name": "python",
   "nbconvert_exporter": "python",
   "pygments_lexer": "ipython3",
   "version": "3.6.5"
  }
 },
 "nbformat": 4,
 "nbformat_minor": 2
}
